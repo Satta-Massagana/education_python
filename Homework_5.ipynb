{
 "cells": [
  {
   "cell_type": "code",
   "execution_count": null,
   "id": "46935c26",
   "metadata": {},
   "outputs": [],
   "source": [
    "Задание 1\n",
    "Печатные газеты использовали свой формат дат для каждого выпуска. Для каждой газеты из списка напишите формат указанной даты\n",
    "для перевода в объект datetime:\n",
    "The Moscow Times — Wednesday, October 2, 2002\n",
    "The Guardian — Friday, 11.10.13\n",
    "Daily News — Thursday, 18 August 1977\n",
    "\n",
    "Пример работы программы\n",
    "\n",
    "Программа должна выводить на экран объекты типа datetime, соответствующие датам в условии задачи.\n",
    "Также программа должна работать итерационно, а именно: принимать входные данные до момента ввода специального символа\n",
    "завершения программы.\n",
    "Если введённое значение не соответствует ни одному формату, то следует продолжать выполнение программы, переходя на\n",
    "следующую итерацию.\n",
    "Безопасный переход следует реализовать с помощью механизма исключений."
   ]
  },
  {
   "cell_type": "code",
   "execution_count": 1,
   "id": "a1751eba",
   "metadata": {},
   "outputs": [
    {
     "name": "stdout",
     "output_type": "stream",
     "text": [
      "Введите дату (или введите 'exit' для завершения): 11\n",
      "Ошибка: Неверный формат даты. Попробуйте еще раз.\n",
      "Введите дату (или введите 'exit' для завершения): 11.11.2012\n",
      "Ошибка: Неверный формат даты. Попробуйте еще раз.\n",
      "Введите дату (или введите 'exit' для завершения): 11.11.12\n",
      "Ошибка: Неверный формат даты. Попробуйте еще раз.\n",
      "Введите дату (или введите 'exit' для завершения): Friday, 11.11.12\n",
      "Объект datetime: 2012-11-11 00:00:00\n",
      "Введите дату (или введите 'exit' для завершения): Thursday, 18 August 1977\n",
      "Объект datetime: 1977-08-18 00:00:00\n",
      "Введите дату (или введите 'exit' для завершения): Friday, 18 August 2202\n",
      "Объект datetime: 2202-08-18 00:00:00\n",
      "Введите дату (или введите 'exit' для завершения): exit\n"
     ]
    }
   ],
   "source": [
    "from datetime import datetime\n",
    "\n",
    "def parse_date(date_string):\n",
    "    formats = [\n",
    "        \"%A, %B %d, %Y\",\n",
    "        \"%A, %d.%m.%y\",\n",
    "        \"%A, %d %B %Y\"\n",
    "    ]\n",
    "    for format_str in formats:\n",
    "        try:\n",
    "            return datetime.strptime(date_string, format_str)\n",
    "        except ValueError:\n",
    "            pass\n",
    "    raise ValueError(\"Неверный формат даты\")\n",
    "\n",
    "def main():\n",
    "    while True:\n",
    "        try:\n",
    "            date_str = input(\"Введите дату (или введите 'exit' для завершения): \")\n",
    "            if date_str.lower() == 'exit':\n",
    "                break\n",
    "\n",
    "            parsed_date = parse_date(date_str)\n",
    "            print(\"Объект datetime:\", parsed_date)\n",
    "        except ValueError as e:\n",
    "            print(f\"Ошибка: {e}. Попробуйте еще раз.\")\n",
    "\n",
    "if __name__ == \"__main__\":\n",
    "    main()\n"
   ]
  },
  {
   "cell_type": "code",
   "execution_count": null,
   "id": "161ed439",
   "metadata": {},
   "outputs": [],
   "source": []
  }
 ],
 "metadata": {
  "kernelspec": {
   "display_name": "Python 3 (ipykernel)",
   "language": "python",
   "name": "python3"
  },
  "language_info": {
   "codemirror_mode": {
    "name": "ipython",
    "version": 3
   },
   "file_extension": ".py",
   "mimetype": "text/x-python",
   "name": "python",
   "nbconvert_exporter": "python",
   "pygments_lexer": "ipython3",
   "version": "3.11.4"
  }
 },
 "nbformat": 4,
 "nbformat_minor": 5
}
