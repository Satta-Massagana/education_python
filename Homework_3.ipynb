{
 "cells": [
  {
   "cell_type": "code",
   "execution_count": null,
   "id": "59da2516",
   "metadata": {
    "scrolled": false
   },
   "outputs": [],
   "source": [
    "Необходимо написать программу, которая сформирует словарь данных на основании заданных критериев\n",
    "(ключ = ключ в исходной структуре, значение = True — если количество ниже 20 , False — остальные случаи).\n",
    "При разработке использовать dict comprehension.\n",
    "\n",
    "Исходные данные имеют следующую структуру:\n",
    "\n",
    "items = {\n",
    "‘milk15’:{‘name’: ‘молоко 1.5%’, ‘count’: 34’, ‘price’: 89.9},\n",
    "‘cheese’:{‘name’: сыр молочный 1 кг.’, ‘count’: 12’, ‘price’: 990.9},\n",
    "‘sausage’:{‘name’: колбаса 1 кг.’, ‘count’: 122’, ‘price’: 1990.9}\n",
    "}"
   ]
  },
  {
   "cell_type": "code",
   "execution_count": 14,
   "id": "3b109a01",
   "metadata": {},
   "outputs": [
    {
     "name": "stdout",
     "output_type": "stream",
     "text": [
      "count_less_20 = {\n",
      "'milk15': False,\n",
      "'cheese': True,\n",
      "'sausage': False\n",
      "}\n"
     ]
    }
   ],
   "source": [
    "items = {\n",
    "    'milk15': {'name': 'молоко 1.5%', 'count': 34, 'price': 89.9},\n",
    "    'cheese': {'name': 'сыр молочный 1 кг.', 'count': 12, 'price': 990.9},\n",
    "    'sausage': {'name': 'колбаса 1 кг.', 'count': 122, 'price': 1990.9}\n",
    "}\n",
    "\n",
    "count_less_20 = {key: item['count'] < 20 for key, item in items.items()}\n",
    "\n",
    "formatted_output = \"{\\n\"\n",
    "for key, value in count_less_20.items():\n",
    "    formatted_output += f\"'{key}': {value},\\n\"\n",
    "formatted_output = formatted_output[:-2]\n",
    "formatted_output += \"\\n}\"\n",
    "\n",
    "print(f\"count_less_20 = {formatted_output}\")"
   ]
  },
  {
   "cell_type": "code",
   "execution_count": null,
   "id": "bbcee0da",
   "metadata": {},
   "outputs": [],
   "source": []
  }
 ],
 "metadata": {
  "kernelspec": {
   "display_name": "Python 3 (ipykernel)",
   "language": "python",
   "name": "python3"
  },
  "language_info": {
   "codemirror_mode": {
    "name": "ipython",
    "version": 3
   },
   "file_extension": ".py",
   "mimetype": "text/x-python",
   "name": "python",
   "nbconvert_exporter": "python",
   "pygments_lexer": "ipython3",
   "version": "3.11.4"
  }
 },
 "nbformat": 4,
 "nbformat_minor": 5
}
