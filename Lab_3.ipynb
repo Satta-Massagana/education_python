{
 "cells": [
  {
   "cell_type": "code",
   "execution_count": null,
   "id": "d1db1400",
   "metadata": {},
   "outputs": [],
   "source": [
    "Напишите программу, которая решает головоломку «Ханойская башня» для заданного количества дисков.\n",
    "\n",
    "Программа должна принимать на вход количество дисков и выводить на экран последовательность ходов, необходимых\n",
    "для перемещения всех дисков с первого стержня на третий стержень, соблюдая правила головоломки:\n",
    "\n",
    "За один ход можно переместить только один диск.\n",
    "Нельзя класть больший диск на меньший.\n",
    "Программа должна быть реализована с использованием рекурсии."
   ]
  },
  {
   "cell_type": "code",
   "execution_count": 1,
   "id": "20e54d04",
   "metadata": {},
   "outputs": [
    {
     "name": "stdout",
     "output_type": "stream",
     "text": [
      "Перемещаем диск 1 с A на C\n",
      "Перемещаем диск 2 с A на B\n",
      "Перемещаем диск 1 с C на B\n",
      "Перемещаем диск 3 с A на C\n",
      "Перемещаем диск 1 с B на A\n",
      "Перемещаем диск 2 с B на C\n",
      "Перемещаем диск 1 с A на C\n"
     ]
    }
   ],
   "source": [
    "def hanoi_tower(n, source, target, auxiliary):\n",
    "    if n > 0:\n",
    "        # Перемещаем (n-1) дисков с начального стержня на вспомогательный\n",
    "        hanoi_tower(n - 1, source, auxiliary, target)\n",
    "        \n",
    "        # Перемещаем оставшийся диск с начального стержня на конечный\n",
    "        print(f\"Перемещаем диск {n} с {source} на {target}\")\n",
    "        \n",
    "        # Перемещаем (n-1) дисков с вспомогательного стержня на конечный\n",
    "        hanoi_tower(n - 1, auxiliary, target, source)\n",
    "\n",
    "# Пример использования функции для 3 дисков\n",
    "number_of_disks = 3\n",
    "hanoi_tower(number_of_disks, 'A', 'C', 'B')\n"
   ]
  },
  {
   "cell_type": "code",
   "execution_count": null,
   "id": "e6c71849",
   "metadata": {},
   "outputs": [],
   "source": []
  }
 ],
 "metadata": {
  "kernelspec": {
   "display_name": "Python 3 (ipykernel)",
   "language": "python",
   "name": "python3"
  },
  "language_info": {
   "codemirror_mode": {
    "name": "ipython",
    "version": 3
   },
   "file_extension": ".py",
   "mimetype": "text/x-python",
   "name": "python",
   "nbconvert_exporter": "python",
   "pygments_lexer": "ipython3",
   "version": "3.11.4"
  }
 },
 "nbformat": 4,
 "nbformat_minor": 5
}
