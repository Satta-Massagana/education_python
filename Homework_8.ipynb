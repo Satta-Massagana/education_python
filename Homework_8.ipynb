{
 "cells": [
  {
   "cell_type": "code",
   "execution_count": null,
   "id": "20e6c8f1",
   "metadata": {},
   "outputs": [],
   "source": [
    "Цель: разработать систему, которая будет формировать описания покупателей на основе характеристик, представленных в файле.\n",
    "На входе — CSV-файл с характеристиками покупателей.\n",
    "На выходе — TXT-файл с описаниями.\n",
    "\n",
    "Шаги:\n",
    "Загрузить CSV-файл.\n",
    "Выполнить парсинг (извлечение атрибутов из структурированного текста).\n",
    "Преобразовать данные (при необходимости).\n",
    "Сформировать текстовое описание по шаблону.\n",
    "Записать в единый TXT-файл.\n",
    "Пример строки на входе:\n",
    "ФИО: Allen Miss. Elisabeth Walton\n",
    "Пол: female\n",
    "Возраст: 29\n",
    "Устройство, с которого выполнялась покупка: mobile\n",
    "Браузер: Chrome\n",
    "Сумма чека: 885\n",
    "Регион покупки: St Louis: MO\n",
    "\n",
    "Пример строки на выходе:\n",
    "Пользователь Allen Miss. Elisabeth Walton женского пола, 29 лет совершила покупку на 885 у.е. с мобильного браузера Chrome.\n",
    "Регион, из которого совершалась покупка: St Louis: MO."
   ]
  },
  {
   "cell_type": "code",
   "execution_count": 16,
   "id": "d0629405",
   "metadata": {},
   "outputs": [],
   "source": [
    "import pandas\n",
    "\n",
    "# Чтение данных из CSV файла\n",
    "df = pandas.read_csv('web_clients_correct.csv')\n",
    "\n",
    "# Открытие текстового файла для записи\n",
    "with open('output.txt', 'w') as output_file:\n",
    "    # Проход по каждой строке в DataFrame\n",
    "    for index, row in df.iterrows():\n",
    "        # Преобразование значения пола\n",
    "        sex = \"женщина\" if row[\"sex\"] == \"female\" else \"мужчина\"\n",
    "\n",
    "        # Преобразование возраста в целое число\n",
    "        age = int(row[\"age\"])\n",
    "\n",
    "        # Замена \"mobile\" на \"мобильного\", \"tablet\" на \"планшета из\", \"laptop\" на \"ноутбука из\",\n",
    "        # и \"desktop\" на \"стационарного компьютера из\"\n",
    "        device_type = (\n",
    "            \"мобильного\" if row[\"device_type\"] == \"mobile\" else\n",
    "            \"планшета из\" if row[\"device_type\"] == \"tablet\" else\n",
    "            \"ноутбука из\" if row[\"device_type\"] == \"laptop\" else\n",
    "            \"стационарного компьютера из\" if row[\"device_type\"] == \"desktop\" else\n",
    "            row[\"device_type\"]\n",
    "        )\n",
    "\n",
    "        # Выбор правильной формы \"совершил\" или \"совершила\" в зависимости от пола\n",
    "        action = \"совершила\" if row[\"sex\"] == \"female\" else \"совершил\"\n",
    "\n",
    "        # Формирование строки с информацией о пользователе\n",
    "        user_info = f'Пользователь {row[\"name\"]} {sex} {age} лет {action} покупку на {row[\"bill\"]} у.е. с {device_type} браузера {row[\"browser\"]}. Регион, из которого совершалась покупка: {row[\"region\"]}.'\n",
    "        \n",
    "        # Запись строки в текстовый файл\n",
    "        output_file.write(user_info + '\\n')\n"
   ]
  },
  {
   "cell_type": "code",
   "execution_count": null,
   "id": "0aba907f",
   "metadata": {},
   "outputs": [],
   "source": []
  }
 ],
 "metadata": {
  "kernelspec": {
   "display_name": "Python 3 (ipykernel)",
   "language": "python",
   "name": "python3"
  },
  "language_info": {
   "codemirror_mode": {
    "name": "ipython",
    "version": 3
   },
   "file_extension": ".py",
   "mimetype": "text/x-python",
   "name": "python",
   "nbconvert_exporter": "python",
   "pygments_lexer": "ipython3",
   "version": "3.11.4"
  }
 },
 "nbformat": 4,
 "nbformat_minor": 5
}
