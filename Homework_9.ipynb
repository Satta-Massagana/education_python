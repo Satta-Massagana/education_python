{
 "cells": [
  {
   "cell_type": "code",
   "execution_count": null,
   "id": "a36c23b8",
   "metadata": {},
   "outputs": [],
   "source": [
    "Напишите функцию, которая принимает на вход строку и проверяет, является ли она валидным транспортным номером\n",
    "(1 буква, 3 цифры, 2 буквы, 2–3 цифры). Обратите внимание, что не все буквы кириллического алфавита используются\n",
    "в транспортных номерах.\n",
    "\n",
    "Если номер валиден, то функция должна возвращать отдельно номер и регион.\n",
    "\n",
    "Примеры работы программы:\n",
    "car_id = 'А222BС96’\n",
    "Результат: Номер А222BС валиден. Регион: 96.\n",
    "\n",
    "car_id = 'АБ22ВВ193’\n",
    "Результат: Номер не валиден."
   ]
  },
  {
   "cell_type": "code",
   "execution_count": 1,
   "id": "c65e98f1",
   "metadata": {},
   "outputs": [
    {
     "name": "stdout",
     "output_type": "stream",
     "text": [
      "Номер А222ВС валиден. Регион: 96.\n",
      "Номер не валиден.\n"
     ]
    }
   ],
   "source": [
    "import re\n",
    "\n",
    "def validate_car_id(car_id):\n",
    "    pattern = r'^[АВЕКМНОРСТУХABEKMHOPCTYX]{1}\\d{3}[АВЕКМНОРСТУХABEKMHOPCTYX]{2}\\d{2,3}$'\n",
    "    if re.match(pattern, car_id):\n",
    "        number = car_id[:6]\n",
    "        region = car_id[6:]\n",
    "        return f'Номер {number} валиден. Регион: {region}.'\n",
    "    else:\n",
    "        return 'Номер не валиден.'\n",
    "\n",
    "# Примеры использования\n",
    "print(validate_car_id('А222ВС96'))\n",
    "print(validate_car_id('АБ22ВВ193'))"
   ]
  },
  {
   "cell_type": "code",
   "execution_count": null,
   "id": "72f2d41d",
   "metadata": {},
   "outputs": [],
   "source": []
  }
 ],
 "metadata": {
  "kernelspec": {
   "display_name": "Python 3 (ipykernel)",
   "language": "python",
   "name": "python3"
  },
  "language_info": {
   "codemirror_mode": {
    "name": "ipython",
    "version": 3
   },
   "file_extension": ".py",
   "mimetype": "text/x-python",
   "name": "python",
   "nbconvert_exporter": "python",
   "pygments_lexer": "ipython3",
   "version": "3.11.4"
  }
 },
 "nbformat": 4,
 "nbformat_minor": 5
}
