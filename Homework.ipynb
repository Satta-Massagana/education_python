{
 "cells": [
  {
   "cell_type": "markdown",
   "id": "19c256c1",
   "metadata": {},
   "source": [
    "Дана переменная, в которой хранится четырёхзначное число — год. Необходимо написать программу, которая выведет, является этот год високосным или обычным.\n",
    "\n",
    "Пример работы программы:\n",
    "\n",
    "year = 2024\n",
    "Результат:\n",
    "Високосный год\n",
    "\n",
    "year = 2023\n",
    "Результат:\n",
    "Обычный год"
   ]
  },
  {
   "cell_type": "code",
   "execution_count": 27,
   "id": "7add44ca",
   "metadata": {},
   "outputs": [
    {
     "name": "stdout",
     "output_type": "stream",
     "text": [
      "Введите год: 2020\n",
      "Результат:\n",
      "Високосный год\n"
     ]
    }
   ],
   "source": [
    "input_year = int(input('Введите год: '))\n",
    "\n",
    "if (input_year % 4 == 0 and input_year % 100 != 0) or input_year % 400 == 0:\n",
    "    print('Результат:\\nВисокосный год')\n",
    "else:\n",
    "    print('Результат:\\nОбычный год')"
   ]
  },
  {
   "cell_type": "markdown",
   "id": "df64bda7",
   "metadata": {},
   "source": [
    "Дана переменная, в которой хранится шестизначное число — номер проездного билета. Напишите программу, которая будет определять, является ли этот билет счастливым. Билет считается счастливым, если сумма первых трёх цифр совпадает с суммой последних трёх цифр номера.\n",
    "\n",
    "Примеры работы программы:\n",
    "\n",
    "number = 123456\n",
    "Результат:\n",
    "Несчастливый билет\n",
    "\n",
    "number = 123321\n",
    "Результат:\n",
    "Счастливый билет"
   ]
  },
  {
   "cell_type": "code",
   "execution_count": 4,
   "id": "75b802c7",
   "metadata": {},
   "outputs": [
    {
     "name": "stdout",
     "output_type": "stream",
     "text": [
      "Введите номер билета: 400220\n",
      "Результат:\n",
      "Счастливый билет\n"
     ]
    }
   ],
   "source": [
    "try:\n",
    "    ticket_number_str = (input('Введите номер билета: '))\n",
    "    ticket_number_int = int(ticket_number_str)\n",
    "except ValueError:\n",
    "    print(\"Ошибка. Вводите пожалуйста только числа\")\n",
    "    sys.exit()\n",
    "\n",
    "# Подсчет количества символов\n",
    "character_count = len(ticket_number_str)\n",
    "if character_count != 6:\n",
    "    print('Ошибка. Введите шесть цифр')\n",
    "    sys.exit()\n",
    "else:\n",
    "\n",
    "    # Подсчет суммы элементов\n",
    "    sum012 = int(ticket_number_str[0]) + int(ticket_number_str[1]) + int(ticket_number_str[2])\n",
    "    sum345 = int(ticket_number_str[3]) + int(ticket_number_str[4]) + int(ticket_number_str[5])\n",
    "\n",
    "if sum012 == sum345:\n",
    "    print('Результат:\\nСчастливый билет')\n",
    "else:\n",
    "    print('Результат:\\nНесчастливый билет')\n",
    "    "
   ]
  },
  {
   "cell_type": "code",
   "execution_count": null,
   "id": "dda7439d",
   "metadata": {},
   "outputs": [],
   "source": []
  }
 ],
 "metadata": {
  "kernelspec": {
   "display_name": "Python 3 (ipykernel)",
   "language": "python",
   "name": "python3"
  },
  "language_info": {
   "codemirror_mode": {
    "name": "ipython",
    "version": 3
   },
   "file_extension": ".py",
   "mimetype": "text/x-python",
   "name": "python",
   "nbconvert_exporter": "python",
   "pygments_lexer": "ipython3",
   "version": "3.11.4"
  }
 },
 "nbformat": 4,
 "nbformat_minor": 5
}
