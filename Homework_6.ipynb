{
 "cells": [
  {
   "cell_type": "code",
   "execution_count": null,
   "id": "cba023b6",
   "metadata": {},
   "outputs": [],
   "source": [
    "Задание 1\n",
    "Переведите содержимое файла purchase_log.txt в словарь purchases вида:\n",
    "{‘1840e0b9d4’: ‘Продукты’, …}\n",
    "Пример работы программы при выводе первых двух элементов словаря purchases:\n",
    "1840e0b9d4 ‘Продукты‘\n",
    "4e4f90fcfb ‘Электроника‘\n",
    "\n",
    "Учтите условия для данных:\n",
    "содержимое purchase_log.txt помещается в оперативную память компьютера;\n",
    "содержимое visit_log.csv — нет, используйте только построчную обработку этого файла.\n",
    "Примеры работы программы при выводе первых трёх строк файла funnel.csv:\n",
    "user_id,source,category\n",
    "1840e0b9d4,other,Продукты\n",
    "4e4f90fcfb,context,Электроника"
   ]
  },
  {
   "cell_type": "code",
   "execution_count": null,
   "id": "8ae943f6",
   "metadata": {},
   "outputs": [],
   "source": [
    "# Создаем словарь для хранения информации о покупках\n",
    "purchases = {}\n",
    "\n",
    "# Считываем информацию о покупках из файла purchase_log.txt\n",
    "with open('purchase_log.txt', 'r', encoding='utf-8') as purchase_file:\n",
    "    for line in purchase_file:\n",
    "        # Используем модуль json для преобразования строки в словарь\n",
    "        purchase_data = json.loads(line.strip())\n",
    "        \n",
    "        # Извлекаем user_id и category из словаря и добавляем в purchases\n",
    "        purchases[purchase_data['user_id']] = purchase_data['category']\n",
    "\n",
    "# Считываем информацию о посещениях из файла visit_log.csv\n",
    "with open('visit_log.csv', 'r', encoding='utf-8') as visit_file:\n",
    "    # Пропускаем заголовок\n",
    "    next(visit_file)\n",
    "    \n",
    "    for line in visit_file:\n",
    "        # Разбиваем строку по запятой\n",
    "        user_id, source, category = line.strip().split(',')\n",
    "        \n",
    "        # Если user_id из visit_log.csv есть в purchases, выводим информацию\n",
    "        if user_id in purchases:\n",
    "            print(f'{user_id} \\'{purchases[user_id]}\\'')\n"
   ]
  }
 ],
 "metadata": {
  "kernelspec": {
   "display_name": "Python 3 (ipykernel)",
   "language": "python",
   "name": "python3"
  },
  "language_info": {
   "codemirror_mode": {
    "name": "ipython",
    "version": 3
   },
   "file_extension": ".py",
   "mimetype": "text/x-python",
   "name": "python",
   "nbconvert_exporter": "python",
   "pygments_lexer": "ipython3",
   "version": "3.11.4"
  }
 },
 "nbformat": 4,
 "nbformat_minor": 5
}
