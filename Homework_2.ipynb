{
 "cells": [
  {
   "cell_type": "code",
   "execution_count": null,
   "id": "81984112",
   "metadata": {},
   "outputs": [],
   "source": [
    "Дана переменная, в которой хранится слово из латинских букв. Напишите код, который выводит на экран:\n",
    "\n",
    "1) среднюю букву, если число букв в слове нечётное;\n",
    "2) две средних буквы, если число букв чётное."
   ]
  },
  {
   "cell_type": "code",
   "execution_count": 6,
   "id": "7d56f223",
   "metadata": {},
   "outputs": [
    {
     "name": "stdout",
     "output_type": "stream",
     "text": [
      "Введите слово: testing\n",
      "Средняя буква: t\n"
     ]
    }
   ],
   "source": [
    "word = input(\"Введите слово: \")\n",
    "length = len(word)\n",
    "\n",
    "if length % 2 == 1:\n",
    "    # Если число букв нечетное\n",
    "    middle_letter = word[length // 2]\n",
    "    print(f\"Средняя буква: {middle_letter}\")\n",
    "else:\n",
    "    # Если число букв четное\n",
    "    middle_letters = word[length // 2 - 1:length // 2 + 1]\n",
    "    print(f\"Две средние буквы: {middle_letters}\")\n"
   ]
  },
  {
   "cell_type": "code",
   "execution_count": null,
   "id": "e47741c5",
   "metadata": {},
   "outputs": [],
   "source": []
  }
 ],
 "metadata": {
  "kernelspec": {
   "display_name": "Python 3 (ipykernel)",
   "language": "python",
   "name": "python3"
  },
  "language_info": {
   "codemirror_mode": {
    "name": "ipython",
    "version": 3
   },
   "file_extension": ".py",
   "mimetype": "text/x-python",
   "name": "python",
   "nbconvert_exporter": "python",
   "pygments_lexer": "ipython3",
   "version": "3.11.4"
  }
 },
 "nbformat": 4,
 "nbformat_minor": 5
}
