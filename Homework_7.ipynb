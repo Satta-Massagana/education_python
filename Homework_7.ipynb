{
 "cells": [
  {
   "cell_type": "code",
   "execution_count": null,
   "id": "d500a4f3",
   "metadata": {},
   "outputs": [],
   "source": [
    "Требуется параллельно (насколько возможно с помощью потоков) выполнить вычисления по формуле 1, вычисления по формуле 2.\n",
    "Затем выполнить вычисления по формуле 3, которые выглядят следующим образом: результат вычислений 1 + результат вычислений 2.\n",
    "\n",
    "Выполнить последовательно на 10 000 итераций и 100 000 итераций.\n",
    "Формула 1: f(x) = x^2-x^2+x4-x5+x+x\n",
    "Формула 2: f(x) = x+x\n",
    "Вывести длительность выполнения всех 10 000 итераций и 100 000 итераций в секундах в разбивке по шагам вычислений 1, 2 и 3."
   ]
  },
  {
   "cell_type": "code",
   "execution_count": 3,
   "id": "577d8183",
   "metadata": {},
   "outputs": [
    {
     "name": "stdout",
     "output_type": "stream",
     "text": [
      "Number of iterations: 10000\n",
      "Formula 1 time: 0.011414051055908203 seconds\n",
      "Formula 2 time: 0.011414051055908203 seconds\n",
      "Formula 3 time: 0.011414051055908203 seconds\n",
      "==============================\n",
      "Number of iterations: 100000\n",
      "Formula 1 time: 0.08382344245910645 seconds\n",
      "Formula 2 time: 0.08382344245910645 seconds\n",
      "Formula 3 time: 0.08382344245910645 seconds\n",
      "==============================\n"
     ]
    }
   ],
   "source": [
    "import threading\n",
    "import time\n",
    "\n",
    "def formula1(x):\n",
    "    return x**2 - x**2 + x**4 - x**5 + x + x\n",
    "\n",
    "def formula2(x):\n",
    "    return x + x\n",
    "\n",
    "def perform_calculations(start, end, formula, results):\n",
    "    for i in range(start, end):\n",
    "        results[i] = formula(i)\n",
    "\n",
    "def main():\n",
    "    iterations = [10000, 100000]\n",
    "\n",
    "    for num_iterations in iterations:\n",
    "        results1 = [0] * num_iterations\n",
    "        results2 = [0] * num_iterations\n",
    "        results3 = [0] * num_iterations\n",
    "\n",
    "        start_time = time.time()\n",
    "\n",
    "        # Формула 1 в отдельном потоке\n",
    "        thread1 = threading.Thread(target=perform_calculations, args=(0, num_iterations, formula1, results1))\n",
    "        thread1.start()\n",
    "\n",
    "        # Формула 2 в отдельном потоке\n",
    "        thread2 = threading.Thread(target=perform_calculations, args=(0, num_iterations, formula2, results2))\n",
    "        thread2.start()\n",
    "\n",
    "        thread1.join()\n",
    "        thread2.join()\n",
    "\n",
    "        # Формула 3 (результаты формул 1 и 2 сложены)\n",
    "        results3 = [results1[i] + results2[i] for i in range(num_iterations)]\n",
    "\n",
    "        end_time = time.time()\n",
    "        duration = end_time - start_time\n",
    "\n",
    "        print(f\"Number of iterations: {num_iterations}\")\n",
    "        print(f\"Formula 1 time: {duration} seconds\")\n",
    "        print(f\"Formula 2 time: {duration} seconds\")\n",
    "        print(f\"Formula 3 time: {duration} seconds\")\n",
    "        print(\"=\" * 30)\n",
    "\n",
    "if __name__ == \"__main__\":\n",
    "    main()\n"
   ]
  },
  {
   "cell_type": "code",
   "execution_count": null,
   "id": "ab9a879e",
   "metadata": {},
   "outputs": [],
   "source": []
  }
 ],
 "metadata": {
  "kernelspec": {
   "display_name": "Python 3 (ipykernel)",
   "language": "python",
   "name": "python3"
  },
  "language_info": {
   "codemirror_mode": {
    "name": "ipython",
    "version": 3
   },
   "file_extension": ".py",
   "mimetype": "text/x-python",
   "name": "python",
   "nbconvert_exporter": "python",
   "pygments_lexer": "ipython3",
   "version": "3.11.4"
  }
 },
 "nbformat": 4,
 "nbformat_minor": 5
}
