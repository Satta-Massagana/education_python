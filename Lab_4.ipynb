{
 "cells": [
  {
   "cell_type": "code",
   "execution_count": null,
   "id": "eeb2fa1d",
   "metadata": {},
   "outputs": [],
   "source": [
    "Цель: написать многопрограммный комплекс, который сохраняет данные в единый файловый каталог (структура данных).\n",
    "\n",
    "Задание:\n",
    "Вручную создайте файл и запишите в него данные в произвольном формате (xml, json, yaml или другие известные вам форматы).\n",
    "Реализуйте программу, которая прочитает сформированный ранее файл и выполнит конвертацию в другой формат.\n",
    "Например: был формат xml — стал json.\n",
    "Выполненное задание разместите на GitHub.\n",
    "\n",
    "Данные для выполнения задания:\n",
    "Имя: Иван\n",
    "Возраст: 30\n",
    "Профессия: учитель\n",
    "Город: Санкт-Петербург\n",
    "\n",
    "Имя: Анна\n",
    "Возраст: 25\n",
    "Профессия: инженер\n",
    "Город: Москва\n",
    "\n",
    "Имя: Максим\n",
    "Возраст: 27\n",
    "Профессия: программист\n",
    "Город: Екатеринбург\n",
    "\n",
    "Имя: Ольга\n",
    "Возраст: 26\n",
    "Профессия: дизайнер\n",
    "Город: Краснодар\n",
    "\n",
    "Имя: Елена\n",
    "Возраст: 28\n",
    "Профессия: врач\n",
    "Город: Новосибирск"
   ]
  },
  {
   "cell_type": "code",
   "execution_count": null,
   "id": "f78db6d9",
   "metadata": {},
   "outputs": [],
   "source": [
    "import xml.etree.ElementTree as ET\n",
    "import json\n",
    "\n",
    "def convert_xml_to_json(xml_file):\n",
    "    tree = ET.parse(xml_file)\n",
    "    root = tree.getroot()\n",
    "\n",
    "    data = []\n",
    "    for person_elem in root.findall('person'):\n",
    "        person = {}\n",
    "        for elem in person_elem:\n",
    "            person[elem.tag] = elem.text\n",
    "        data.append(person)\n",
    "\n",
    "    return json.dumps(data, indent=2, ensure_ascii=False)\n",
    "\n",
    "# Чтение данных из XML файла\n",
    "xml_file_path = 'data.xml'\n",
    "json_data = convert_xml_to_json(xml_file_path)\n",
    "\n",
    "# Запись данных в JSON файл\n",
    "json_file_path = 'data.json'\n",
    "with open(json_file_path, 'w', encoding='utf-8') as json_file:\n",
    "    json_file.write(json_data)\n"
   ]
  }
 ],
 "metadata": {
  "kernelspec": {
   "display_name": "Python 3 (ipykernel)",
   "language": "python",
   "name": "python3"
  },
  "language_info": {
   "codemirror_mode": {
    "name": "ipython",
    "version": 3
   },
   "file_extension": ".py",
   "mimetype": "text/x-python",
   "name": "python",
   "nbconvert_exporter": "python",
   "pygments_lexer": "ipython3",
   "version": "3.11.4"
  }
 },
 "nbformat": 4,
 "nbformat_minor": 5
}
